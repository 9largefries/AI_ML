{
 "cells": [
  {
   "cell_type": "markdown",
   "metadata": {},
   "source": [
    "## Обучение полносвязной нейронной сети с одним и несколькими слоями \n",
    "\n",
    "Выполнено на основе фреймворка Keras на бэкэнде Theano"
   ]
  },
  {
   "cell_type": "code",
   "execution_count": 1,
   "metadata": {},
   "outputs": [
    {
     "name": "stderr",
     "output_type": "stream",
     "text": [
      "Using Theano backend.\n",
      "WARNING (theano.configdefaults): g++ not available, if using conda: `conda install m2w64-toolchain`\n",
      "c:\\users\\lenovo\\appdata\\local\\programs\\python\\python37-32\\lib\\site-packages\\theano\\configdefaults.py:560: UserWarning: DeprecationWarning: there is no c++ compiler.This is deprecated and with Theano 0.11 a c++ compiler will be mandatory\n",
      "  warnings.warn(\"DeprecationWarning: there is no c++ compiler.\"\n",
      "WARNING (theano.configdefaults): g++ not detected ! Theano will be unable to execute optimized C-implementations (for both CPU and GPU) and will default to Python implementations. Performance will be severely degraded. To remove this warning, set Theano flags cxx to an empty string.\n",
      "WARNING (theano.tensor.blas): Using NumPy C-API based implementation for BLAS functions.\n"
     ]
    }
   ],
   "source": [
    "import numpy as np\n",
    "import os\n",
    "import cv2\n",
    "from keras.models import Model\n",
    "from keras.layers import Input, Dense\n",
    "from keras.utils import np_utils\n",
    "from sklearn.model_selection import train_test_split"
   ]
  },
  {
   "cell_type": "code",
   "execution_count": 3,
   "metadata": {},
   "outputs": [],
   "source": [
    "symbols = ['e', 'o', 'n', 'u']\n",
    "data = []\n",
    "classes = []\n",
    "\n",
    "#составляем матрицу с изображениями и вектор их классов\n",
    "for symbol in symbols:\n",
    "    for image in os.listdir(symbol):\n",
    "        array = cv2.imread(symbol + '/' + image, cv2.IMREAD_GRAYSCALE)\n",
    "        data.append(array)\n",
    "        if symbol == 'e':\n",
    "            classes.append(0)\n",
    "        elif symbol == 'n':\n",
    "            classes.append(1)\n",
    "        elif symbol == 'u':\n",
    "            classes.append(2)\n",
    "        else:\n",
    "            classes.append(3)\n",
    "\n",
    "arr_classes = np.array(classes)\n",
    "arr_data = np.array(data)\n"
   ]
  },
  {
   "cell_type": "code",
   "execution_count": 5,
   "metadata": {},
   "outputs": [],
   "source": [
    "#гиперпараметры\n",
    "batch_size = 16 #обучающих примеров за раз\n",
    "num_epochs = 15 #раз итерация по обучающему множеству\n",
    "\n",
    "num_train = 640 #0.8 * 800 \n",
    "num_test = 160 #0.2 * 800\n",
    "\n",
    "#разбиение по людям\n",
    "#так как человека у нас всего 2 в команде, то возьмем разбиение 50/50\n",
    "#num_train = 400\n",
    "#num_test = 400\n",
    "\n",
    "\n",
    "height, width, depth = 32, 32, 1 #параметры изображений\n",
    "num_classes = 4 #количество классов\n",
    "\n",
    "#разбиение 80/20\n",
    "x_train, x_test, y_train, y_test = train_test_split(arr_data, arr_classes, test_size = 0.2)\n",
    "\n",
    "#приводим данные к 1Д \n",
    "x_train = x_train.reshape(num_train, height * width)\n",
    "x_test = x_test.reshape(num_test, height * width)\n",
    "x_train = x_train.astype('float32')\n",
    "x_test = x_test.astype('float32')\n",
    "#нормализация данных до значений [0,1]\n",
    "x_train /= 255\n",
    "x_test /= 255\n",
    "\n",
    "#one-hot encoding\n",
    "y_train = np_utils.to_categorical(y_train, num_classes)\n",
    "y_test = np_utils.to_categorical(y_test, num_classes)"
   ]
  },
  {
   "cell_type": "markdown",
   "metadata": {},
   "source": [
    "## Полносвязная нейросеть с одним слоем"
   ]
  },
  {
   "cell_type": "code",
   "execution_count": 6,
   "metadata": {},
   "outputs": [],
   "source": [
    "inp = Input(shape = (height * width,)) #входной вектор\n",
    "out = Dense(num_classes, activation='softmax')(inp) #выходной слой\n",
    "\n",
    "model = Model(inputs=inp, outputs=out)"
   ]
  },
  {
   "cell_type": "code",
   "execution_count": 7,
   "metadata": {},
   "outputs": [],
   "source": [
    "#accuracy \n",
    "model.compile(loss='categorical_crossentropy',#функция кросс-энтропии\n",
    "             optimizer='adam', #оптимайзер Адама\n",
    "             metrics=['accuracy']) "
   ]
  },
  {
   "cell_type": "code",
   "execution_count": 8,
   "metadata": {},
   "outputs": [
    {
     "name": "stdout",
     "output_type": "stream",
     "text": [
      "_________________________________________________________________\n",
      "Layer (type)                 Output Shape              Param #   \n",
      "=================================================================\n",
      "input_1 (InputLayer)         (None, 1024)              0         \n",
      "_________________________________________________________________\n",
      "dense_1 (Dense)              (None, 4)                 4100      \n",
      "=================================================================\n",
      "Total params: 4,100\n",
      "Trainable params: 4,100\n",
      "Non-trainable params: 0\n",
      "_________________________________________________________________\n",
      "Train on 576 samples, validate on 64 samples\n",
      "Epoch 1/15\n",
      "576/576 [==============================] - 15s 26ms/step - loss: 1.5442 - acc: 0.2587 - val_loss: 1.3553 - val_acc: 0.2188\n",
      "Epoch 2/15\n",
      "576/576 [==============================] - 16s 27ms/step - loss: 1.3690 - acc: 0.3212 - val_loss: 1.2334 - val_acc: 0.4375\n",
      "Epoch 3/15\n",
      "576/576 [==============================] - 16s 27ms/step - loss: 1.2946 - acc: 0.4010 - val_loss: 1.3161 - val_acc: 0.3281\n",
      "Epoch 4/15\n",
      "576/576 [==============================] - 15s 27ms/step - loss: 1.1822 - acc: 0.5260 - val_loss: 1.3309 - val_acc: 0.4844\n",
      "Epoch 5/15\n",
      "576/576 [==============================] - 14s 25ms/step - loss: 1.1332 - acc: 0.5347 - val_loss: 1.0726 - val_acc: 0.8125\n",
      "Epoch 6/15\n",
      "576/576 [==============================] - 15s 26ms/step - loss: 1.0625 - acc: 0.6267 - val_loss: 1.0529 - val_acc: 0.6875\n",
      "Epoch 7/15\n",
      "576/576 [==============================] - 15s 26ms/step - loss: 1.0767 - acc: 0.5312 - val_loss: 1.2197 - val_acc: 0.5312\n",
      "Epoch 8/15\n",
      "576/576 [==============================] - 15s 26ms/step - loss: 0.9430 - acc: 0.7274 - val_loss: 1.1488 - val_acc: 0.5312\n",
      "Epoch 9/15\n",
      "576/576 [==============================] - 15s 25ms/step - loss: 0.9104 - acc: 0.7344 - val_loss: 1.0334 - val_acc: 0.6406\n",
      "Epoch 10/15\n",
      "576/576 [==============================] - 15s 26ms/step - loss: 0.9428 - acc: 0.6493 - val_loss: 1.0050 - val_acc: 0.5938\n",
      "Epoch 11/15\n",
      "576/576 [==============================] - 16s 28ms/step - loss: 0.8212 - acc: 0.7760 - val_loss: 0.9921 - val_acc: 0.5000\n",
      "Epoch 12/15\n",
      "576/576 [==============================] - 16s 28ms/step - loss: 0.8028 - acc: 0.7639 - val_loss: 0.7897 - val_acc: 0.7812\n",
      "Epoch 13/15\n",
      "576/576 [==============================] - 16s 28ms/step - loss: 0.7626 - acc: 0.7830 - val_loss: 0.8368 - val_acc: 0.7812\n",
      "Epoch 14/15\n",
      "576/576 [==============================] - 15s 26ms/step - loss: 0.7224 - acc: 0.8090 - val_loss: 0.8164 - val_acc: 0.7812\n",
      "Epoch 15/15\n",
      "576/576 [==============================] - 20s 34ms/step - loss: 0.7136 - acc: 0.8333 - val_loss: 0.7537 - val_acc: 0.8594\n",
      "160/160 [==============================] - 0s 488us/step\n",
      "Loss = 0.7404324054718018, Final accuracy = 0.8\n"
     ]
    }
   ],
   "source": [
    "model.summary()\n",
    "#запуск обучающего алгоритма\n",
    "model.fit(x_train, y_train, \n",
    "          batch_size=batch_size, epochs=num_epochs, \n",
    "         verbose=1, validation_split=0.1) #валидационный набор - 10%\n",
    "loss, accuracy = model.evaluate(x_test, y_test, verbose=1)\n",
    "print('Loss = {}, Final accuracy = {}'.format(loss, accuracy))"
   ]
  },
  {
   "cell_type": "markdown",
   "metadata": {},
   "source": [
    "## Полносвязная нейросеть с 3 слоями"
   ]
  },
  {
   "cell_type": "code",
   "execution_count": 9,
   "metadata": {},
   "outputs": [],
   "source": [
    "inp = Input(shape = (height * width,)) #входной вектор\n",
    "hidden_1 = Dense(hidden_size, activation='relu')(inp) #первый слой с акт.ф-ей relu\n",
    "hidden_2 = Dense(hidden_size, activation='relu')(hidden_1) #второй слой\n",
    "out = Dense(num_classes, activation='softmax')(hidden_2) #выходной слой\n",
    "\n",
    "model = Model(inputs=inp, outputs=out)"
   ]
  },
  {
   "cell_type": "code",
   "execution_count": 10,
   "metadata": {},
   "outputs": [],
   "source": [
    "#accuracy \n",
    "model.compile(loss='categorical_crossentropy',#функция кросс-энтропии\n",
    "             optimizer='adam', #оптимайзер Адама\n",
    "             metrics=['accuracy']) \n"
   ]
  },
  {
   "cell_type": "code",
   "execution_count": null,
   "metadata": {},
   "outputs": [
    {
     "name": "stdout",
     "output_type": "stream",
     "text": [
      "_________________________________________________________________\n",
      "Layer (type)                 Output Shape              Param #   \n",
      "=================================================================\n",
      "input_2 (InputLayer)         (None, 1024)              0         \n",
      "_________________________________________________________________\n",
      "dense_2 (Dense)              (None, 100)               102500    \n",
      "_________________________________________________________________\n",
      "dense_3 (Dense)              (None, 100)               10100     \n",
      "_________________________________________________________________\n",
      "dense_4 (Dense)              (None, 4)                 404       \n",
      "=================================================================\n",
      "Total params: 113,004\n",
      "Trainable params: 113,004\n",
      "Non-trainable params: 0\n",
      "_________________________________________________________________\n",
      "Train on 576 samples, validate on 64 samples\n",
      "Epoch 1/15\n",
      "576/576 [==============================] - 384s 667ms/step - loss: 1.5050 - acc: 0.2309 - val_loss: 1.4505 - val_acc: 0.1875\n",
      "Epoch 2/15\n",
      "576/576 [==============================] - 375s 652ms/step - loss: 1.3209 - acc: 0.3576 - val_loss: 1.2865 - val_acc: 0.3906\n",
      "Epoch 3/15\n",
      "576/576 [==============================] - 377s 655ms/step - loss: 1.3035 - acc: 0.3941 - val_loss: 1.2733 - val_acc: 0.7188\n",
      "Epoch 4/15\n",
      "576/576 [==============================] - 386s 670ms/step - loss: 1.1821 - acc: 0.4618 - val_loss: 1.3588 - val_acc: 0.3594\n",
      "Epoch 5/15\n",
      "576/576 [==============================] - 447s 776ms/step - loss: 1.0858 - acc: 0.5503 - val_loss: 1.5359 - val_acc: 0.3438\n",
      "Epoch 6/15\n",
      "576/576 [==============================] - 418s 725ms/step - loss: 1.0003 - acc: 0.6024 - val_loss: 1.6510 - val_acc: 0.1875\n",
      "Epoch 7/15\n",
      "576/576 [==============================] - 482s 837ms/step - loss: 0.9770 - acc: 0.5764 - val_loss: 0.9124 - val_acc: 0.6094\n",
      "Epoch 8/15\n",
      "576/576 [==============================] - 549s 954ms/step - loss: 0.7364 - acc: 0.7917 - val_loss: 0.8096 - val_acc: 0.6719\n",
      "Epoch 9/15\n",
      "576/576 [==============================] - 462s 801ms/step - loss: 0.6642 - acc: 0.7674 - val_loss: 0.7575 - val_acc: 0.7188\n",
      "Epoch 10/15\n",
      "576/576 [==============================] - 473s 821ms/step - loss: 0.5773 - acc: 0.8177 - val_loss: 0.7345 - val_acc: 0.7031\n",
      "Epoch 11/15\n",
      "576/576 [==============================] - 545s 946ms/step - loss: 0.5619 - acc: 0.8003 - val_loss: 0.6638 - val_acc: 0.7031\n",
      "Epoch 12/15\n",
      "576/576 [==============================] - 551s 957ms/step - loss: 0.5694 - acc: 0.7865 - val_loss: 0.5882 - val_acc: 0.8750\n",
      "Epoch 13/15\n",
      "576/576 [==============================] - 584s 1s/step - loss: 0.4040 - acc: 0.8819 - val_loss: 0.4955 - val_acc: 0.8281\n",
      "Epoch 14/15\n",
      "576/576 [==============================] - 596s 1s/step - loss: 0.4760 - acc: 0.8507 - val_loss: 0.6985 - val_acc: 0.7344\n",
      "Epoch 15/15\n",
      "576/576 [==============================] - 408s 708ms/step - loss: 0.3373 - acc: 0.9132 - val_loss: 0.3976 - val_acc: 0.9062\n",
      "160/160 [==============================] - 1s 5ms/step\n",
      "Loss = 0.3583622992038727, Final accuracy = 0.90625\n"
     ]
    }
   ],
   "source": [
    "model.summary()\n",
    "hidden_size = 10 #нейронов в двух слоях\n",
    "#запуск обучающего алгоритма\n",
    "model.fit(x_train, y_train, \n",
    "          batch_size=batch_size, epochs=num_epochs, \n",
    "         verbose=1, validation_split=0.1) #валидационный набор - 10%\n",
    "loss, accuracy = model.evaluate(x_test, y_test, verbose=1)\n",
    "print('Loss = {}, Final accuracy = {}'.format(loss, accuracy))"
   ]
  },
  {
   "cell_type": "code",
   "execution_count": null,
   "metadata": {},
   "outputs": [],
   "source": []
  }
 ],
 "metadata": {
  "kernelspec": {
   "display_name": "Python 3",
   "language": "python",
   "name": "python3"
  },
  "language_info": {
   "codemirror_mode": {
    "name": "ipython",
    "version": 3
   },
   "file_extension": ".py",
   "mimetype": "text/x-python",
   "name": "python",
   "nbconvert_exporter": "python",
   "pygments_lexer": "ipython3",
   "version": "3.7.0"
  }
 },
 "nbformat": 4,
 "nbformat_minor": 2
}
